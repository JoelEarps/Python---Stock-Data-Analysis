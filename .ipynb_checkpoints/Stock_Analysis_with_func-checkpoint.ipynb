{
 "cells": [
  {
   "cell_type": "code",
   "execution_count": 46,
   "metadata": {},
   "outputs": [],
   "source": [
    "import numpy as np\n",
    "import pandas as pd"
   ]
  },
  {
   "cell_type": "code",
   "execution_count": 47,
   "metadata": {},
   "outputs": [],
   "source": [
    "#First load in the file, got to give it column titles as the data didnt have any\n",
    "title_list = [\"bloomberg_code\", \"unused\", \"bid_price\", \"ask_price\", \"trade_price\", \"bid_volume\", \"ask_volume\", \"trade_volume\", \"Update Type\", \"unused1\" , \"Date\", \"Time_secs_past_mid\", \"opening_price\", \"unused2\", \"condition_codes\", \"unused3\"]\n",
    "scandi_df = pd.read_csv(r\"..\\Python - Stock Data Analysis\\scandi.csv\", header = None)\n",
    "#always good to have a quick look to understand whats going on\n",
    "#scandi_df.head()"
   ]
  },
  {
   "cell_type": "code",
   "execution_count": 48,
   "metadata": {},
   "outputs": [],
   "source": [
    "scandi_df.columns = title_list\n",
    "#scandi_df"
   ]
  },
  {
   "cell_type": "code",
   "execution_count": 49,
   "metadata": {},
   "outputs": [],
   "source": [
    "#from the spec only some of the columns have no labels or represent nothing of interest. So remove them\n",
    "del scandi_df[\"unused\"]\n",
    "del scandi_df[\"unused1\"]\n",
    "del scandi_df[\"unused2\"]\n",
    "del scandi_df[\"unused3\"]"
   ]
  },
  {
   "cell_type": "code",
   "execution_count": 50,
   "metadata": {},
   "outputs": [],
   "source": [
    "#just looking to see if this is comparible with the opening time for the swedish market which is about 9-5.30\n",
    "#scandi_df[\"Time_secs_past_mid\"].min()"
   ]
  },
  {
   "cell_type": "code",
   "execution_count": 51,
   "metadata": {},
   "outputs": [],
   "source": [
    "# the requirements state that only null and XT condition codes are required, so lets filter them out \n",
    "xt_df = scandi_df[scandi_df['condition_codes'] == \"XT\"]\n",
    "nan_df = scandi_df[scandi_df['condition_codes'].isna()]\n",
    "filt_df = pd.concat([xt_df, nan_df])"
   ]
  },
  {
   "cell_type": "code",
   "execution_count": 52,
   "metadata": {},
   "outputs": [],
   "source": [
    "#exclude auctions (remove cross spreads) - where the bid price is larger than the ask price\n",
    "filt_df = filt_df[filt_df['ask_price'] >= filt_df['bid_price']]"
   ]
  },
  {
   "cell_type": "code",
   "execution_count": 53,
   "metadata": {},
   "outputs": [],
   "source": [
    "#just looking at the number of unique indentifiers\n",
    "code_list = filt_df['bloomberg_code'].unique()"
   ]
  },
  {
   "cell_type": "code",
   "execution_count": 54,
   "metadata": {},
   "outputs": [],
   "source": [
    "#filtered based on 1 being a trade - 2 and 3 where only updates\n",
    "filt_df = filt_df[filt_df['Update Type'] == 1]"
   ]
  },
  {
   "cell_type": "code",
   "execution_count": 55,
   "metadata": {},
   "outputs": [],
   "source": [
    "#function for checking the end of the price being a 0, required a seperate function as its a float, returns a % bias i.e 50% means half the numbers were round numbers\n",
    "def zero_end_float(y):\n",
    "    total = y.size\n",
    "    zero_count = 0\n",
    "    for i in y:\n",
    "        x = ('{:.2f}'.format(i)).endswith('0')\n",
    "        if x == True:\n",
    "            zero_count+=1\n",
    "            \n",
    "    round_num_bias_price = (round(((zero_count/total)*100), 2))\n",
    "    return round_num_bias_price"
   ]
  },
  {
   "cell_type": "code",
   "execution_count": 56,
   "metadata": {},
   "outputs": [],
   "source": [
    "#function for checking if the end of the trade volume being a zero, returns % bias, i.e 50% means half the numbers were round numbers\n",
    "def zero_end_whole(y):\n",
    "    total = y.size\n",
    "    zero_count = 0\n",
    "    for i in y:\n",
    "        x = str(i).endswith('0')\n",
    "        if x == True:\n",
    "            zero_count+=1\n",
    "            \n",
    "    round_num_bias_volume = (round(((zero_count/total)*100), 2))\n",
    "    return round_num_bias_volume"
   ]
  },
  {
   "cell_type": "code",
   "execution_count": 57,
   "metadata": {},
   "outputs": [],
   "source": [
    "def tickdata(df):\n",
    "    ticktemp = df['trade_price'].diff()\n",
    "    timetemp = df['Time_secs_past_mid']\n",
    "    df1 = pd.DataFrame({'tickch': ticktemp, 'time': timetemp})\n",
    "    df1.fillna(0, inplace=True)\n",
    "    df1 = df1[(df1[['tickch']] != 0).all(axis=1)]\n",
    "    tickchange = df1['time'].diff()\n",
    "    return tickchange"
   ]
  },
  {
   "cell_type": "code",
   "execution_count": 58,
   "metadata": {
    "scrolled": false
   },
   "outputs": [],
   "source": [
    "results_titles = [\"Stock ID\", \"Mean Time between Trades (s)\", \"Median Time between trades (s)\", \"Longest Time between Trades (s)\", \"Mean Time between Tick Changes (s)\", \"Median Time between Tick Changes (s)\", \"Longest Time between Tick Changes (s)\", \"Mean Bid Ask Spread (£)\", \"Median Bid Ask Spread (£)\", \"Round Number Bias Trade Price (%)\", \"Round Number Bias Trade Volume (%)\"]\n",
    "Results = pd.DataFrame(columns=results_titles)\n",
    "#now lets have a look at the removing the gaps in time everyday and therefore not skew figures\n",
    "#we will do this by having a look at one of the stocks, will it be when the trade volume is 0 or a time period e.g. 9 - 5\n",
    "#so checking for 0 trade volume returns no values, even if the you do it on the orginal data frame!\n",
    "for i in range(len(code_list)):\n",
    "    tempdf = filt_df[filt_df['bloomberg_code'] == code_list[i]]\n",
    "    #for time data\n",
    "    temp = tempdf['Time_secs_past_mid'].diff()\n",
    "    temp.fillna(0, inplace=True)\n",
    "    temp[temp< 0] = 0\n",
    "    #for bid ask data\n",
    "    bastemp = tempdf[\"ask_price\"] - tempdf[\"bid_price\"]\n",
    "    #for tick changes\n",
    "    tickchange = tickdata(tempdf)\n",
    "    #for round number bias\n",
    "    tp = tempdf['trade_price']\n",
    "    tv = tempdf['trade_volume']\n",
    "    price0 = zero_end_float(tp)\n",
    "    volume0 = zero_end_whole(tv)\n",
    "    #return the data\n",
    "    data = [{'Stock ID' : code_list[i], 'Mean Time between Trades (s)': round(temp.mean(),2),'Median Time between trades (s)': round(temp.median(),2),'Longest Time between Trades (s)': round(temp.max(),2),'Mean Time between Tick Changes (s)':  round(tickchange.mean(),2), 'Median Time between Tick Changes (s)': round(tickchange.median(),2), 'Longest Time between Tick Changes (s)':round(tickchange.max(),2), 'Mean Bid Ask Spread (£)': round(bastemp.mean(),2), 'Median Bid Ask Spread (£)': round(bastemp.median(),2), \"Round Number Bias Trade Price (%)\" : price0, \"Round Number Bias Trade Volume (%)\": volume0}]    \n",
    "    #print(data)\n",
    "    Results = Results.append(data,sort=False, ignore_index = True)"
   ]
  },
  {
   "cell_type": "code",
   "execution_count": 59,
   "metadata": {},
   "outputs": [],
   "source": [
    "#check the dataframe\n",
    "print(Results)"
   ]
  },
  {
   "cell_type": "code",
   "execution_count": 60,
   "metadata": {},
   "outputs": [],
   "source": [
    "Results.to_csv(r\"..\\Python - Stock Data Analysis\\results_report.csv\", index = False)"
   ]
  },
  {
   "cell_type": "code",
   "execution_count": null,
   "metadata": {},
   "outputs": [],
   "source": [
    "\n"
   ]
  },
  {
   "cell_type": "code",
   "execution_count": null,
   "metadata": {},
   "outputs": [],
   "source": []
  },
  {
   "cell_type": "code",
   "execution_count": null,
   "metadata": {},
   "outputs": [],
   "source": []
  },
  {
   "cell_type": "code",
   "execution_count": null,
   "metadata": {},
   "outputs": [],
   "source": []
  },
  {
   "cell_type": "code",
   "execution_count": null,
   "metadata": {},
   "outputs": [],
   "source": []
  },
  {
   "cell_type": "code",
   "execution_count": null,
   "metadata": {},
   "outputs": [],
   "source": []
  }
 ],
 "metadata": {
  "kernelspec": {
   "display_name": "Python 3",
   "language": "python",
   "name": "python3"
  },
  "language_info": {
   "codemirror_mode": {
    "name": "ipython",
    "version": 3
   },
   "file_extension": ".py",
   "mimetype": "text/x-python",
   "name": "python",
   "nbconvert_exporter": "python",
   "pygments_lexer": "ipython3",
   "version": "3.7.4"
  }
 },
 "nbformat": 4,
 "nbformat_minor": 2
}
